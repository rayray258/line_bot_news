{
 "cells": [
  {
   "cell_type": "code",
   "execution_count": null,
   "metadata": {},
   "outputs": [],
   "source": [
    "'''\n",
    "\n",
    "用戶菜單功能介紹\n",
    "\n",
    "    用戶能透過點擊菜單，進行我方希冀之業務功能。\n",
    "    \n",
    "流程\n",
    "    準備菜單的圖面設定檔\n",
    "    讀取安全設定檔上的參數\n",
    "    將菜單設定檔傳給Line\n",
    "    對Line上傳菜單照片\n",
    "    檢視現有的菜單\n",
    "    將菜單與用戶做綁定\n",
    "    將菜單與用戶解除綁定\n",
    "    刪除菜單\n",
    "\n",
    "'''"
   ]
  },
  {
   "cell_type": "code",
   "execution_count": 1,
   "metadata": {},
   "outputs": [],
   "source": [
    "'''\n",
    "菜單設定檔\n",
    "\n",
    "    設定圖面大小、按鍵名與功能\n",
    "    \n",
    "'''\n",
    "\n",
    "menuRawData=\"\"\"\n",
    "{\n",
    "  \"size\": {\n",
    "    \"width\": 2500,\n",
    "    \"height\": 1686\n",
    "  },\n",
    "  \"selected\": true,\n",
    "  \"name\": \"!新聞預測選單\",\n",
    "  \"chatBarText\": \"查看更多資訊\",\n",
    "  \"areas\": [\n",
    "    {\n",
    "      \"bounds\": {\n",
    "        \"x\": 0,\n",
    "        \"y\": 0,\n",
    "        \"width\": 827,\n",
    "        \"height\": 835\n",
    "      },\n",
    "      \"action\": {\n",
    "        \"type\": \"message\",\n",
    "        \"text\": \"!關鍵字搜尋\"\n",
    "      }\n",
    "    },\n",
    "    {\n",
    "      \"bounds\": {\n",
    "        \"x\": 840,\n",
    "        \"y\": 0,\n",
    "        \"width\": 822,\n",
    "        \"height\": 836\n",
    "      },\n",
    "      \"action\": {\n",
    "        \"type\": \"message\",\n",
    "        \"text\": \"!人氣熱度預測\"\n",
    "      }\n",
    "    },\n",
    "    {\n",
    "      \"bounds\": {\n",
    "        \"x\": 1674,\n",
    "        \"y\": 0,\n",
    "        \"width\": 826,\n",
    "        \"height\": 832\n",
    "      },\n",
    "      \"action\": {\n",
    "        \"type\": \"message\",\n",
    "        \"text\": \"!訂閱\"\n",
    "      }\n",
    "    },\n",
    "    {\n",
    "      \"bounds\": {\n",
    "        \"x\": 0,\n",
    "        \"y\": 855,\n",
    "        \"width\": 823,\n",
    "        \"height\": 831\n",
    "      },\n",
    "      \"action\": {\n",
    "        \"type\": \"message\",\n",
    "        \"text\": \"!新聞推薦\"\n",
    "      }\n",
    "    },\n",
    "    {\n",
    "      \"bounds\": {\n",
    "        \"x\": 839,\n",
    "        \"y\": 852,\n",
    "        \"width\": 822,\n",
    "        \"height\": 834\n",
    "      },\n",
    "      \"action\": {\n",
    "        \"type\": \"message\",\n",
    "        \"text\": \"!國外熱門新聞\"\n",
    "      }\n",
    "    },\n",
    "    {\n",
    "      \"bounds\": {\n",
    "        \"x\": 1674,\n",
    "        \"y\": 854,\n",
    "        \"width\": 826,\n",
    "        \"height\": 832\n",
    "      },\n",
    "      \"action\": {\n",
    "        \"type\": \"message\",\n",
    "        \"text\": \"!關於我們\"\n",
    "      }\n",
    "    }\n",
    "  ]\n",
    "}\n",
    "\"\"\""
   ]
  },
  {
   "cell_type": "code",
   "execution_count": 2,
   "metadata": {},
   "outputs": [
    {
     "name": "stdout",
     "output_type": "stream",
     "text": [
      "rOHa7uct4F2pXIQHYP2UV5g28obnEPtPIB5BJIqFLO0suiqIDd3+o8MGXYOSXY3ZoUSBtsnlE4L5Dfwpkdrk2lPJPxEzkdTgzkT5ycPeLZULuQFAIdQ9tFWpXUDZwpvf5jci8oPlGrIiwa7K7yX8HAdB04t89/1O/w1cDnyilFU=\n",
      "f25cd68f4689d2998bc4c812c84ac854\n",
      "Ub2229d6c802d8c3d334cdcc8b4e494a9\n"
     ]
    }
   ],
   "source": [
    "'''\n",
    "\n",
    "讀取安全檔案內的字串，以供後續程式碼調用\n",
    "\n",
    "'''\n",
    "import json\n",
    "secretFileContentJson=json.load(open(\"../line_secret_key\",'r'))\n",
    "\n",
    "print(secretFileContentJson.get(\"channel_access_token\"))\n",
    "print(secretFileContentJson.get(\"secret_key\"))\n",
    "print(secretFileContentJson.get(\"self_user_id\"))\n"
   ]
  },
  {
   "cell_type": "code",
   "execution_count": 3,
   "metadata": {},
   "outputs": [
    {
     "name": "stdout",
     "output_type": "stream",
     "text": [
      "<Response [200]>\n",
      "{\"richMenuId\":\"richmenu-e772d897133c11b81c1555eebac49c48\"}\n"
     ]
    }
   ],
   "source": [
    "'''\n",
    "\n",
    "將先前準備的菜單設定檔，以Post消息寄發給Line\n",
    "\n",
    "    設定Line的遠端位置\n",
    "    設定消息的基本安全憑證\n",
    "    寄發消息，並取得回應之Id\n",
    "    \n",
    "\n",
    "'''\n",
    "\n",
    "import requests\n",
    "\n",
    "menuJson=json.loads(menuRawData)\n",
    "\n",
    "createMenuEndpoint = 'https://api.line.me/v2/bot/richmenu'\n",
    "createMenuRequestHeader={'Content-Type':'application/json','Authorization':'Bearer %s' % secretFileContentJson[\"channel_access_token\"]}\n",
    "\n",
    "#print(createMenuRequestHeader)\n",
    "\n",
    "lineCreateMenuResponse = requests.post(createMenuEndpoint,headers=createMenuRequestHeader,data=json.dumps(menuJson))\n",
    "\n",
    "print(lineCreateMenuResponse)\n",
    "print(lineCreateMenuResponse.text)\n"
   ]
  },
  {
   "cell_type": "code",
   "execution_count": 4,
   "metadata": {},
   "outputs": [
    {
     "name": "stdout",
     "output_type": "stream",
     "text": [
      "richmenu-e772d897133c11b81c1555eebac49c48\n",
      "https://api.line.me/v2/bot/richmenu/richmenu-e772d897133c11b81c1555eebac49c48/content\n",
      "<Response [200]>\n",
      "{}\n"
     ]
    }
   ],
   "source": [
    "'''\n",
    "\n",
    "將先前準備的菜單照片，以Post消息寄發給Line\n",
    "    取得上面設定檔的Id\n",
    "    設定Line的遠端位置\n",
    "    設定消息的基本安全憑證\n",
    "    上傳照片，並取得回傳成果\n",
    "\n",
    "'''\n",
    "\n",
    "# 取得菜單Id \n",
    "uploadRichMenuId=json.loads(lineCreateMenuResponse.text).get(\"richMenuId\")\n",
    "print(uploadRichMenuId)\n",
    "#'https://api.line.me/v2/bot/richmenu/{richMenuId}/content'\n",
    "\n",
    "# 設定Line的遠端位置\n",
    "uploadMenuEndpoint='https://api.line.me/v2/bot/richmenu/%s/content' % uploadRichMenuId\n",
    "print(uploadMenuEndpoint)\n",
    "\n",
    "# 設定消息的基本安全憑證\n",
    "uploadMenuRequestHeader={'Content-Type':'image/jpeg','Authorization':'Bearer %s' % secretFileContentJson[\"channel_access_token\"]}\n",
    "\n",
    "# 上傳照片\n",
    "uploadImageFile=open(\"../images/eeoo.jpg\",'rb')\n",
    "lineUploadMenuResponse=requests.post(uploadMenuEndpoint,headers=uploadMenuRequestHeader,data=uploadImageFile)\n",
    "\n",
    "print(lineUploadMenuResponse)\n",
    "print(lineUploadMenuResponse.text)"
   ]
  },
  {
   "cell_type": "code",
   "execution_count": 5,
   "metadata": {},
   "outputs": [
    {
     "name": "stdout",
     "output_type": "stream",
     "text": [
      "https://api.line.me/v2/bot/user/Ub2229d6c802d8c3d334cdcc8b4e494a9/richmenu/richmenu-e772d897133c11b81c1555eebac49c48\n",
      "<Response [200]>\n",
      "{}\n"
     ]
    }
   ],
   "source": [
    "'''\n",
    "\n",
    "將選單綁定到特定用戶身上\n",
    "    取出上面得到的菜單Id及用戶id\n",
    "    設定Line的遠端位置\n",
    "    設定消息的基本安全憑證\n",
    "    發送消息告知\n",
    "\n",
    "'''\n",
    "\n",
    "# https://api.line.me/v2/bot/user/{userId}/richmenu/{richMenuId}\n",
    "\n",
    "# 取得菜單id\n",
    "linkRichMenuId=json.loads(lineCreateMenuResponse.text).get(\"richMenuId\")\n",
    "\n",
    "# 將菜單id與用戶id組合成遠端位置\n",
    "linkMenuEndpoint='https://api.line.me/v2/bot/user/%s/richmenu/%s' % (secretFileContentJson[\"self_user_id\"], linkRichMenuId)\n",
    "print(linkMenuEndpoint)\n",
    "\n",
    "# 設定消息基本安全憑證\n",
    "linkMenuRequestHeader={'Content-Type':'image/jpeg','Authorization':'Bearer %s' % secretFileContentJson[\"channel_access_token\"]}\n",
    "\n",
    "# 發送消息\n",
    "lineLinkMenuResponse=requests.post(linkMenuEndpoint,headers=linkMenuRequestHeader)\n",
    "print(lineLinkMenuResponse)\n",
    "print(lineLinkMenuResponse.text)"
   ]
  },
  {
   "cell_type": "code",
   "execution_count": 6,
   "metadata": {},
   "outputs": [
    {
     "name": "stdout",
     "output_type": "stream",
     "text": [
      "https://api.line.me/v2/bot/user/Ub2229d6c802d8c3d334cdcc8b4e494a9/richmenu\n",
      "<Response [200]>\n",
      "{\"richMenuId\":\"richmenu-e772d897133c11b81c1555eebac49c48\"}\n"
     ]
    }
   ],
   "source": [
    "'''\n",
    "\n",
    "檢視用戶目前所綁定的菜單\n",
    "    取出用戶id\n",
    "    設定Line的遠端位置\n",
    "    設定消息的基本安全憑證\n",
    "    發送消息告知\n",
    "\n",
    "'''\n",
    "\n",
    "#  https://api.line.me/v2/bot/user/{userId}/richmenu\n",
    "\n",
    "# 取出用戶id，設定Line的遠端位置\n",
    "userMenuEndpoint='https://api.line.me/v2/bot/user/%s/richmenu' % (secretFileContentJson[\"self_user_id\"])\n",
    "print(userMenuEndpoint)\n",
    "\n",
    "# 設定消息的基本安全憑證\n",
    "userMenuRequestHeader={'Authorization':'Bearer %s' % secretFileContentJson[\"channel_access_token\"]}\n",
    "\n",
    "# 發送消息告知\n",
    "lineUserMenuResponse=requests.get(userMenuEndpoint,headers=userMenuRequestHeader)\n",
    "print(lineUserMenuResponse)\n",
    "print(lineUserMenuResponse.text)\n"
   ]
  },
  {
   "cell_type": "code",
   "execution_count": null,
   "metadata": {},
   "outputs": [],
   "source": [
    "'''\n",
    "\n",
    "解除選單與特定用戶的綁定\n",
    "    取出用戶id\n",
    "    設定Line的遠端位置\n",
    "    設定消息的基本安全憑證\n",
    "    發送消息告知\n",
    "\n",
    "'''\n",
    "\n",
    "# 取出用戶id，設定Line的遠端位置\n",
    "userMenuEndpoint='https://api.line.me/v2/bot/user/%s/richmenu' % (secretFileContentJson[\"self_user_id\"])\n",
    "print(userMenuEndpoint)\n",
    "\n",
    "# 設定消息的基本安全憑證\n",
    "userMenuRequestHeader={'Authorization':'Bearer %s' % secretFileContentJson[\"channel_access_token\"]}\n",
    "\n",
    "# 發送消息告知\n",
    "lineUnregisterUserMenuResponse=requests.delete(userMenuEndpoint,headers=userMenuRequestHeader)\n",
    "print(lineUnregisterUserMenuResponse)\n",
    "print(lineUnregisterUserMenuResponse.text)"
   ]
  },
  {
   "cell_type": "code",
   "execution_count": 7,
   "metadata": {},
   "outputs": [
    {
     "name": "stdout",
     "output_type": "stream",
     "text": [
      "{\"richmenus\":[{\"richMenuId\":\"richmenu-7e62996aae6bf578551fd888d9b027bc\",\"name\":\"新聞預測選單\",\"size\":{\"width\":2500,\"height\":1686},\"chatBarText\":\"查看更多資訊\",\"selected\":true,\"areas\":[{\"bounds\":{\"x\":0,\"y\":0,\"width\":827,\"height\":835},\"action\":{\"type\":\"message\",\"text\":\"人氣熱度預測\"}},{\"bounds\":{\"x\":840,\"y\":0,\"width\":822,\"height\":836},\"action\":{\"type\":\"message\",\"text\":\"訂閱\"}},{\"bounds\":{\"x\":1674,\"y\":0,\"width\":826,\"height\":832},\"action\":{\"type\":\"message\",\"text\":\"新聞推薦\"}},{\"bounds\":{\"x\":0,\"y\":849,\"width\":823,\"height\":831},\"action\":{\"type\":\"message\",\"text\":\"關鍵字搜尋\"}},{\"bounds\":{\"x\":839,\"y\":846,\"width\":822,\"height\":834},\"action\":{\"type\":\"message\",\"text\":\"國外熱門新聞\"}},{\"bounds\":{\"x\":1674,\"y\":848,\"width\":826,\"height\":832},\"action\":{\"type\":\"message\",\"text\":\"關於我們\"}}]},{\"richMenuId\":\"richmenu-fe69ff00e784c8bd1db356a43da36134\",\"name\":\"區塊鏈自定義菜單\",\"size\":{\"width\":2500,\"height\":1686},\"chatBarText\":\"查看更多資訊\",\"selected\":true,\"areas\":[{\"bounds\":{\"x\":5,\"y\":0,\"width\":824,\"height\":850},\"action\":{\"type\":\"message\",\"text\":\"[::text:]傳統交易\"}},{\"bounds\":{\"x\":0,\"y\":850,\"width\":825,\"height\":818},\"action\":{\"type\":\"message\",\"text\":\"[::text:]第三方公證人\"}},{\"bounds\":{\"x\":829,\"y\":5,\"width\":871,\"height\":849},\"action\":{\"type\":\"message\",\"text\":\"[::text:]多位公證人\"}},{\"bounds\":{\"x\":825,\"y\":854,\"width\":875,\"height\":814},\"action\":{\"type\":\"message\",\"text\":\"[::text:]多組織多位公證人\"}},{\"bounds\":{\"x\":1700,\"y\":0,\"width\":800,\"height\":858},\"action\":{\"type\":\"message\",\"text\":\"[::text:]教學訊息\"}},{\"bounds\":{\"x\":1700,\"y\":858,\"width\":800,\"height\":810},\"action\":{\"type\":\"message\",\"text\":\"[::text:]more\"}}]},{\"richMenuId\":\"richmenu-41d2fe601790637005a11481f5e4bea5\",\"name\":\"新聞預測選單\",\"size\":{\"width\":2500,\"height\":1686},\"chatBarText\":\"查看更多資訊\",\"selected\":true,\"areas\":[{\"bounds\":{\"x\":0,\"y\":0,\"width\":827,\"height\":835},\"action\":{\"type\":\"message\",\"text\":\"人氣熱度預測\"}},{\"bounds\":{\"x\":840,\"y\":0,\"width\":822,\"height\":836},\"action\":{\"type\":\"message\",\"text\":\"訂閱\"}},{\"bounds\":{\"x\":1674,\"y\":0,\"width\":826,\"height\":832},\"action\":{\"type\":\"message\",\"text\":\"新聞推薦\"}},{\"bounds\":{\"x\":0,\"y\":849,\"width\":823,\"height\":831},\"action\":{\"type\":\"message\",\"text\":\"關鍵字搜尋\"}},{\"bounds\":{\"x\":839,\"y\":846,\"width\":822,\"height\":834},\"action\":{\"type\":\"message\",\"text\":\"國外熱門新聞\"}},{\"bounds\":{\"x\":1674,\"y\":848,\"width\":826,\"height\":832},\"action\":{\"type\":\"message\",\"text\":\"關於我們\"}}]},{\"richMenuId\":\"richmenu-dc766f785ed19bdf4fa42489766abe23\",\"name\":\"新聞預測選單\",\"size\":{\"width\":2500,\"height\":1686},\"chatBarText\":\"查看更多資訊\",\"selected\":true,\"areas\":[{\"bounds\":{\"x\":0,\"y\":0,\"width\":827,\"height\":835},\"action\":{\"type\":\"message\",\"text\":\"人氣熱度預測\"}},{\"bounds\":{\"x\":840,\"y\":0,\"width\":822,\"height\":836},\"action\":{\"type\":\"message\",\"text\":\"訂閱\"}},{\"bounds\":{\"x\":1674,\"y\":0,\"width\":826,\"height\":832},\"action\":{\"type\":\"message\",\"text\":\"新聞推薦\"}},{\"bounds\":{\"x\":0,\"y\":855,\"width\":823,\"height\":831},\"action\":{\"type\":\"message\",\"text\":\"關鍵字搜尋\"}},{\"bounds\":{\"x\":839,\"y\":852,\"width\":822,\"height\":834},\"action\":{\"type\":\"message\",\"text\":\"國外熱門新聞\"}},{\"bounds\":{\"x\":1674,\"y\":854,\"width\":826,\"height\":832},\"action\":{\"type\":\"message\",\"text\":\"關於我們\"}}]},{\"richMenuId\":\"richmenu-e772d897133c11b81c1555eebac49c48\",\"name\":\"!新聞預測選單\",\"size\":{\"width\":2500,\"height\":1686},\"chatBarText\":\"查看更多資訊\",\"selected\":true,\"areas\":[{\"bounds\":{\"x\":0,\"y\":0,\"width\":827,\"height\":835},\"action\":{\"type\":\"message\",\"text\":\"!關鍵字搜尋\"}},{\"bounds\":{\"x\":840,\"y\":0,\"width\":822,\"height\":836},\"action\":{\"type\":\"message\",\"text\":\"!人氣熱度預測\"}},{\"bounds\":{\"x\":1674,\"y\":0,\"width\":826,\"height\":832},\"action\":{\"type\":\"message\",\"text\":\"!訂閱\"}},{\"bounds\":{\"x\":0,\"y\":855,\"width\":823,\"height\":831},\"action\":{\"type\":\"message\",\"text\":\"!新聞推薦\"}},{\"bounds\":{\"x\":839,\"y\":852,\"width\":822,\"height\":834},\"action\":{\"type\":\"message\",\"text\":\"!國外熱門新聞\"}},{\"bounds\":{\"x\":1674,\"y\":854,\"width\":826,\"height\":832},\"action\":{\"type\":\"message\",\"text\":\"!關於我們\"}}]},{\"richMenuId\":\"richmenu-02d7b6fe2e1d1badd4cf63aeab4000d0\",\"name\":\"新聞預測選單\",\"size\":{\"width\":2500,\"height\":1686},\"chatBarText\":\"查看更多資訊\",\"selected\":true,\"areas\":[{\"bounds\":{\"x\":0,\"y\":0,\"width\":827,\"height\":835},\"action\":{\"type\":\"message\",\"text\":\"關鍵字搜尋\"}},{\"bounds\":{\"x\":840,\"y\":0,\"width\":822,\"height\":836},\"action\":{\"type\":\"message\",\"text\":\"人氣熱度預測\"}},{\"bounds\":{\"x\":1674,\"y\":0,\"width\":826,\"height\":832},\"action\":{\"type\":\"message\",\"text\":\"訂閱\"}},{\"bounds\":{\"x\":0,\"y\":855,\"width\":823,\"height\":831},\"action\":{\"type\":\"message\",\"text\":\"新聞推薦\"}},{\"bounds\":{\"x\":839,\"y\":852,\"width\":822,\"height\":834},\"action\":{\"type\":\"message\",\"text\":\"國外熱門新聞\"}},{\"bounds\":{\"x\":1674,\"y\":854,\"width\":826,\"height\":832},\"action\":{\"type\":\"message\",\"text\":\"關於我們\"}}]},{\"richMenuId\":\"richmenu-41b232f9bebada68f8c6b144a4aed00c\",\"name\":\"新聞預測選單\",\"size\":{\"width\":2500,\"height\":1686},\"chatBarText\":\"查看更多資訊\",\"selected\":true,\"areas\":[{\"bounds\":{\"x\":0,\"y\":0,\"width\":827,\"height\":835},\"action\":{\"type\":\"message\",\"text\":\"人氣熱度預測\"}},{\"bounds\":{\"x\":840,\"y\":0,\"width\":822,\"height\":836},\"action\":{\"type\":\"message\",\"text\":\"訂閱\"}},{\"bounds\":{\"x\":1674,\"y\":0,\"width\":826,\"height\":832},\"action\":{\"type\":\"message\",\"text\":\"新聞推薦\"}},{\"bounds\":{\"x\":0,\"y\":855,\"width\":823,\"height\":831},\"action\":{\"type\":\"message\",\"text\":\"關鍵字搜尋\"}},{\"bounds\":{\"x\":839,\"y\":852,\"width\":822,\"height\":834},\"action\":{\"type\":\"message\",\"text\":\"國外熱門新聞\"}},{\"bounds\":{\"x\":1674,\"y\":854,\"width\":826,\"height\":832},\"action\":{\"type\":\"message\",\"text\":\"關於我們\"}}]},{\"richMenuId\":\"richmenu-e5526c6ce5ce8c81999385d9245cf8a2\",\"name\":\"區塊鏈自定義菜單\",\"size\":{\"width\":2500,\"height\":1686},\"chatBarText\":\"查看更多資訊\",\"selected\":true,\"areas\":[{\"bounds\":{\"x\":5,\"y\":0,\"width\":824,\"height\":850},\"action\":{\"type\":\"message\",\"text\":\"[::text:]傳統交易\"}},{\"bounds\":{\"x\":0,\"y\":850,\"width\":825,\"height\":818},\"action\":{\"type\":\"message\",\"text\":\"[::text:]第三方公證人\"}},{\"bounds\":{\"x\":829,\"y\":5,\"width\":871,\"height\":849},\"action\":{\"type\":\"message\",\"text\":\"[::text:]多位公證人\"}},{\"bounds\":{\"x\":825,\"y\":854,\"width\":875,\"height\":814},\"action\":{\"type\":\"message\",\"text\":\"[::text:]多組織多位公證人\"}},{\"bounds\":{\"x\":1700,\"y\":0,\"width\":800,\"height\":858},\"action\":{\"type\":\"message\",\"text\":\"[::text:]教學訊息\"}},{\"bounds\":{\"x\":1700,\"y\":858,\"width\":800,\"height\":810},\"action\":{\"type\":\"message\",\"text\":\"[::text:]more\"}}]},{\"richMenuId\":\"richmenu-c90506eff0a3c840ee0d4a25eb962d1d\",\"name\":\"區塊鏈自定義菜單\",\"size\":{\"width\":2500,\"height\":1686},\"chatBarText\":\"查看更多資訊\",\"selected\":true,\"areas\":[{\"bounds\":{\"x\":5,\"y\":0,\"width\":824,\"height\":850},\"action\":{\"type\":\"message\",\"text\":\"[::text:]傳統交易\"}},{\"bounds\":{\"x\":0,\"y\":850,\"width\":825,\"height\":818},\"action\":{\"type\":\"message\",\"text\":\"[::text:]第三方公證人\"}},{\"bounds\":{\"x\":829,\"y\":5,\"width\":871,\"height\":849},\"action\":{\"type\":\"message\",\"text\":\"[::text:]多位公證人\"}},{\"bounds\":{\"x\":825,\"y\":854,\"width\":875,\"height\":814},\"action\":{\"type\":\"message\",\"text\":\"[::text:]多組織多位公證人\"}},{\"bounds\":{\"x\":1700,\"y\":0,\"width\":800,\"height\":858},\"action\":{\"type\":\"message\",\"text\":\"[::text:]教學訊息\"}},{\"bounds\":{\"x\":1700,\"y\":858,\"width\":800,\"height\":810},\"action\":{\"type\":\"message\",\"text\":\"[::text:]more\"}}]},{\"richMenuId\":\"richmenu-a577eb4b21fe6895dd315ff31af3e09c\",\"name\":\"新聞預測選單\",\"size\":{\"width\":2500,\"height\":1686},\"chatBarText\":\"查看更多資訊\",\"selected\":true,\"areas\":[{\"bounds\":{\"x\":0,\"y\":0,\"width\":827,\"height\":835},\"action\":{\"type\":\"message\",\"text\":\"人氣熱度預測\"}},{\"bounds\":{\"x\":840,\"y\":0,\"width\":822,\"height\":836},\"action\":{\"type\":\"message\",\"text\":\"訂閱\"}},{\"bounds\":{\"x\":1674,\"y\":0,\"width\":826,\"height\":832},\"action\":{\"type\":\"message\",\"text\":\"新聞推薦\"}},{\"bounds\":{\"x\":0,\"y\":849,\"width\":823,\"height\":831},\"action\":{\"type\":\"message\",\"text\":\"關鍵字搜尋\"}},{\"bounds\":{\"x\":839,\"y\":846,\"width\":822,\"height\":834},\"action\":{\"type\":\"message\",\"text\":\"國外熱門新聞\"}},{\"bounds\":{\"x\":1674,\"y\":848,\"width\":826,\"height\":832},\"action\":{\"type\":\"message\",\"text\":\"關於我們\"}}]},{\"richMenuId\":\"richmenu-74321fda0c89348c3e20bc5d62e593d8\",\"name\":\"新聞預測選單\",\"size\":{\"width\":2500,\"height\":1686},\"chatBarText\":\"查看更多資訊\",\"selected\":true,\"areas\":[{\"bounds\":{\"x\":0,\"y\":0,\"width\":827,\"height\":835},\"action\":{\"type\":\"message\",\"text\":\"人氣熱度預測\"}},{\"bounds\":{\"x\":840,\"y\":0,\"width\":822,\"height\":836},\"action\":{\"type\":\"message\",\"text\":\"訂閱\"}},{\"bounds\":{\"x\":1674,\"y\":0,\"width\":826,\"height\":832},\"action\":{\"type\":\"message\",\"text\":\"新聞推薦\"}},{\"bounds\":{\"x\":0,\"y\":849,\"width\":823,\"height\":831},\"action\":{\"type\":\"message\",\"text\":\"關鍵字搜尋\"}},{\"bounds\":{\"x\":839,\"y\":846,\"width\":822,\"height\":834},\"action\":{\"type\":\"message\",\"text\":\"國外熱門新聞\"}},{\"bounds\":{\"x\":1674,\"y\":848,\"width\":826,\"height\":832},\"action\":{\"type\":\"message\",\"text\":\"關於我們\"}}]},{\"richMenuId\":\"richmenu-c410280546ef02110946fa79d8034f9a\",\"name\":\"新聞預測選單\",\"size\":{\"width\":2500,\"height\":1686},\"chatBarText\":\"查看更多資訊\",\"selected\":true,\"areas\":[{\"bounds\":{\"x\":0,\"y\":0,\"width\":827,\"height\":835},\"action\":{\"type\":\"message\",\"text\":\"人氣熱度預測\"}},{\"bounds\":{\"x\":840,\"y\":0,\"width\":822,\"height\":836},\"action\":{\"type\":\"message\",\"text\":\"訂閱\"}},{\"bounds\":{\"x\":1674,\"y\":0,\"width\":826,\"height\":832},\"action\":{\"type\":\"message\",\"text\":\"新聞推薦\"}},{\"bounds\":{\"x\":0,\"y\":849,\"width\":823,\"height\":831},\"action\":{\"type\":\"message\",\"text\":\"關鍵字搜尋\"}},{\"bounds\":{\"x\":839,\"y\":846,\"width\":822,\"height\":834},\"action\":{\"type\":\"message\",\"text\":\"國外熱門新聞\"}},{\"bounds\":{\"x\":1674,\"y\":848,\"width\":826,\"height\":832},\"action\":{\"type\":\"message\",\"text\":\"關於我們\"}}]},{\"richMenuId\":\"richmenu-ecd78c6c952ed6787feb284162f508c5\",\"name\":\"新聞預測選單\",\"size\":{\"width\":2500,\"height\":1686},\"chatBarText\":\"查看更多資訊\",\"selected\":true,\"areas\":[{\"bounds\":{\"x\":0,\"y\":0,\"width\":827,\"height\":835},\"action\":{\"type\":\"message\",\"text\":\"人氣熱度預測\"}},{\"bounds\":{\"x\":840,\"y\":0,\"width\":822,\"height\":836},\"action\":{\"type\":\"message\",\"text\":\"訂閱\"}},{\"bounds\":{\"x\":1674,\"y\":0,\"width\":826,\"height\":832},\"action\":{\"type\":\"message\",\"text\":\"新聞推薦\"}},{\"bounds\":{\"x\":0,\"y\":849,\"width\":823,\"height\":831},\"action\":{\"type\":\"message\",\"text\":\"關鍵字搜尋\"}},{\"bounds\":{\"x\":839,\"y\":846,\"width\":822,\"height\":834},\"action\":{\"type\":\"message\",\"text\":\"國外熱門新聞\"}},{\"bounds\":{\"x\":1674,\"y\":848,\"width\":826,\"height\":832},\"action\":{\"type\":\"message\",\"text\":\"關於我們\"}}]},{\"richMenuId\":\"richmenu-45a2b006db7fc43aba3fda774f0c7953\",\"name\":\"新聞預測選單\",\"size\":{\"width\":2500,\"height\":1686},\"chatBarText\":\"查看更多資訊\",\"selected\":true,\"areas\":[{\"bounds\":{\"x\":0,\"y\":0,\"width\":827,\"height\":835},\"action\":{\"type\":\"message\",\"text\":\"人氣熱度預測\"}},{\"bounds\":{\"x\":840,\"y\":0,\"width\":822,\"height\":836},\"action\":{\"type\":\"message\",\"text\":\"訂閱\"}},{\"bounds\":{\"x\":1674,\"y\":0,\"width\":826,\"height\":832},\"action\":{\"type\":\"message\",\"text\":\"新聞推薦\"}},{\"bounds\":{\"x\":0,\"y\":849,\"width\":823,\"height\":831},\"action\":{\"type\":\"message\",\"text\":\"關鍵字搜尋\"}},{\"bounds\":{\"x\":839,\"y\":846,\"width\":822,\"height\":834},\"action\":{\"type\":\"message\",\"text\":\"國外熱門新聞\"}},{\"bounds\":{\"x\":1674,\"y\":848,\"width\":826,\"height\":832},\"action\":{\"type\":\"message\",\"text\":\"關於我們\"}}]},{\"richMenuId\":\"richmenu-511315e9a7297636a39fa4b5c826f1d4\",\"name\":\"!新聞預測選單\",\"size\":{\"width\":2500,\"height\":1686},\"chatBarText\":\"查看更多資訊\",\"selected\":true,\"areas\":[{\"bounds\":{\"x\":0,\"y\":0,\"width\":827,\"height\":835},\"action\":{\"type\":\"message\",\"text\":\"!關鍵字搜尋\"}},{\"bounds\":{\"x\":840,\"y\":0,\"width\":822,\"height\":836},\"action\":{\"type\":\"message\",\"text\":\"!人氣熱度預測\"}},{\"bounds\":{\"x\":1674,\"y\":0,\"width\":826,\"height\":832},\"action\":{\"type\":\"message\",\"text\":\"!訂閱\"}},{\"bounds\":{\"x\":0,\"y\":855,\"width\":823,\"height\":831},\"action\":{\"type\":\"message\",\"text\":\"!新聞推薦\"}},{\"bounds\":{\"x\":839,\"y\":852,\"width\":822,\"height\":834},\"action\":{\"type\":\"message\",\"text\":\"!國外熱門新聞\"}},{\"bounds\":{\"x\":1674,\"y\":854,\"width\":826,\"height\":832},\"action\":{\"type\":\"message\",\"text\":\"!關於我們\"}}]},{\"richMenuId\":\"richmenu-d92509347af9e16109d99512267910a5\",\"name\":\"新聞預測選單\",\"size\":{\"width\":2500,\"height\":1686},\"chatBarText\":\"查看更多資訊\",\"selected\":true,\"areas\":[{\"bounds\":{\"x\":0,\"y\":0,\"width\":827,\"height\":835},\"action\":{\"type\":\"message\",\"text\":\"關鍵字搜尋\"}},{\"bounds\":{\"x\":840,\"y\":0,\"width\":822,\"height\":836},\"action\":{\"type\":\"message\",\"text\":\"人氣熱度預測\"}},{\"bounds\":{\"x\":1674,\"y\":0,\"width\":826,\"height\":832},\"action\":{\"type\":\"message\",\"text\":\"訂閱\"}},{\"bounds\":{\"x\":0,\"y\":855,\"width\":823,\"height\":831},\"action\":{\"type\":\"message\",\"text\":\"新聞推薦\"}},{\"bounds\":{\"x\":839,\"y\":852,\"width\":822,\"height\":834},\"action\":{\"type\":\"message\",\"text\":\"國外熱門新聞\"}},{\"bounds\":{\"x\":1674,\"y\":854,\"width\":826,\"height\":832},\"action\":{\"type\":\"message\",\"text\":\"關於我們\"}}]},{\"richMenuId\":\"richmenu-67ad326ee7fb4045c940c26e732be9a6\",\"name\":\"新聞預測選單\",\"size\":{\"width\":2500,\"height\":1686},\"chatBarText\":\"查看更多資訊\",\"selected\":true,\"areas\":[{\"bounds\":{\"x\":0,\"y\":0,\"width\":827,\"height\":835},\"action\":{\"type\":\"message\",\"text\":\"人氣熱度預測\"}},{\"bounds\":{\"x\":840,\"y\":0,\"width\":822,\"height\":836},\"action\":{\"type\":\"message\",\"text\":\"訂閱\"}},{\"bounds\":{\"x\":1674,\"y\":0,\"width\":826,\"height\":832},\"action\":{\"type\":\"message\",\"text\":\"新聞推薦\"}},{\"bounds\":{\"x\":0,\"y\":849,\"width\":823,\"height\":831},\"action\":{\"type\":\"message\",\"text\":\"關鍵字搜尋\"}},{\"bounds\":{\"x\":839,\"y\":846,\"width\":822,\"height\":834},\"action\":{\"type\":\"message\",\"text\":\"國外熱門新聞\"}},{\"bounds\":{\"x\":1674,\"y\":848,\"width\":826,\"height\":832},\"action\":{\"type\":\"message\",\"text\":\"關於我們\"}}]}]}\n"
     ]
    }
   ],
   "source": [
    "'''\n",
    "\n",
    "檢視帳號內，有哪些選單\n",
    "    設定Line的遠端位置\n",
    "    設定消息的基本安全憑證\n",
    "    發送消息告知\n",
    "\n",
    "'''\n",
    "\n",
    "# 設定Line的遠端位置\n",
    "listMenuEndpoint=\"https://api.line.me/v2/bot/richmenu/list\"\n",
    "\n",
    "# 設定消息的基本安全憑證\n",
    "listMenuHeader={'Authorization':'Bearer %s' % secretFileContentJson[\"channel_access_token\"]}    \n",
    "\n",
    "# 發送消息告知\n",
    "lineLisrMenuResponse = requests.get(listMenuEndpoint,headers=listMenuHeader)\n",
    "print(lineLisrMenuResponse.text)"
   ]
  },
  {
   "cell_type": "code",
   "execution_count": null,
   "metadata": {},
   "outputs": [],
   "source": []
  }
 ],
 "metadata": {
  "kernelspec": {
   "display_name": "Python 3",
   "language": "python",
   "name": "python3"
  },
  "language_info": {
   "codemirror_mode": {
    "name": "ipython",
    "version": 3
   },
   "file_extension": ".py",
   "mimetype": "text/x-python",
   "name": "python",
   "nbconvert_exporter": "python",
   "pygments_lexer": "ipython3",
   "version": "3.7.2"
  }
 },
 "nbformat": 4,
 "nbformat_minor": 2
}
