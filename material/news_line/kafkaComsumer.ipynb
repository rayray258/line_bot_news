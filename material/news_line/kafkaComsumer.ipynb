{
 "cells": [
  {
   "cell_type": "code",
   "execution_count": null,
   "metadata": {},
   "outputs": [
    {
     "name": "stdout",
     "output_type": "stream",
     "text": [
      "Start listen incoming messages ...\n",
      "topic=preference, partition=0, offset=19 : (key=None, value={'news_url': 'https://tw.news.appledaily.com/politics/realtime/20190201/1511565/', 'userid': 'Ub2229d6c802d8c3d334cdcc8b4e494a9', 'preference': 'like', 'timestamp': '1553239376593'})\n",
      "REPLACE INTO user_preference SET news_url='https://tw.news.appledaily.com/politics/realtime/20190201/1511565/', userid='Ub2229d6c802d8c3d334cdcc8b4e494a9', preference='like', timestamp='1553239376593';\n",
      "Successful!\n"
     ]
    }
   ],
   "source": [
    "from kafka import KafkaConsumer\n",
    "import sys, json\n",
    "from kafkaToMysql import toMysql\n",
    "\n",
    "if __name__ == \"__main__\":\n",
    "    # 步驟1.設定要連線到Kafka集群的相關設定, 產生一個Kafka的Consumer的實例\n",
    "    consumer = KafkaConsumer(\n",
    "        # Kafka集群在哪裡?\n",
    "        bootstrap_servers=[\"34.80.48.32:9092\"],\n",
    "        api_version=(0, 10),\n",
    "        # ConsumerGroup的名稱\n",
    "        group_id=\"user_preference\",\n",
    "        # 指定msgKey的反序列化器, 若Key為None, 無法反序列化\n",
    "        key_deserializer=bytes.decode,\n",
    "        # 指定msgValue的反序列化器\n",
    "        value_deserializer=bytes.decode,\n",
    "        # 是否從這個ConsumerGroup尚未讀取的partition / offset開始讀\n",
    "        auto_offset_reset=\"earliest\",\n",
    "    )\n",
    "    # 步驟2.指定想要訂閱訊息的topic名稱\n",
    "    topic_name = \"preference\"\n",
    "    # 步驟3.讓Consumer向Kafka集群訂閱指定的topic\n",
    "    consumer.subscribe(topics=topic_name)\n",
    "\n",
    "    # 手動將offset歸零, assign開啟時需將subscribe關閉\n",
    "    # consumer.assign([TopicPartition(topic_name, 0)])\n",
    "    # for part in consumer.partitions_for_topic(topic_name):\n",
    "    #     consumer.seek(TopicPartition(topic_name, part), 0)\n",
    "\n",
    "    # 步驟4.持續的拉取Kafka有進來的訊息\n",
    "    try:\n",
    "        print(\"Start listen incoming messages ...\")\n",
    "        # 持續監控是否有新的record進來 - 方法一\n",
    "        for record in consumer:\n",
    "            topic = record.topic\n",
    "            partition = record.partition\n",
    "            offset = record.offset\n",
    "            timestamp = record.timestamp\n",
    "            # 取出msgKey與msgValue\n",
    "            msgKey = record.key\n",
    "            msgValue = record.value\n",
    "            # 秀出metadata與msgKey & msgValue訊息\n",
    "            print(\"topic=%s, partition=%s, offset=%s : (key=%s, value=%s)\" % (topic, partition, offset, msgKey,\n",
    "                                                                              json.loads(msgValue)))\n",
    "            # 持續監控是否有新的record進來 - 方法二\n",
    "            # while True:\n",
    "            #     batch = consumer.poll(1000).values()\n",
    "            #     for records in batch:\n",
    "            #         for record in records:\n",
    "            #             topic = record.topic\n",
    "            #             partition = record.partition\n",
    "            #             offset = record.offset\n",
    "            #             timestamp = record.timestamp\n",
    "            #             # 取出msgKey與msgValue\n",
    "            #             msgKey = record.key\n",
    "            #             msgValue = record.value\n",
    "            #             # 秀出metadata與msgKey & msgValue訊息\n",
    "            #             print(\"topic=%s, partition=%s, offset=%s : (key=%s, value=%s)\" % (record.topic, record.partition,\n",
    "            #                                                                               record.offset, record.key,\n",
    "            #                                                                               record.value))\n",
    "\n",
    "            toMysql(msgValue)\n",
    "\n",
    "    except:\n",
    "        # 錯誤處理\n",
    "        e_type, e_value, e_traceback = sys.exc_info()\n",
    "        print(\"type ==> %s\" % (e_type))\n",
    "        print(\"value ==> %s\" % (e_value))\n",
    "        print(\"traceback ==> file name: %s\" % (e_traceback.tb_frame.f_code.co_filename))\n",
    "        print(\"traceback ==> line no: %s\" % (e_traceback.tb_lineno))\n",
    "        print(\"traceback ==> function name: %s\" % (e_traceback.tb_frame.f_code.co_name))\n",
    "    finally:\n",
    "        consumer.close()"
   ]
  }
 ],
 "metadata": {
  "kernelspec": {
   "display_name": "Python 3",
   "language": "python",
   "name": "python3"
  },
  "language_info": {
   "codemirror_mode": {
    "name": "ipython",
    "version": 3
   },
   "file_extension": ".py",
   "mimetype": "text/x-python",
   "name": "python",
   "nbconvert_exporter": "python",
   "pygments_lexer": "ipython3",
   "version": "3.7.2"
  }
 },
 "nbformat": 4,
 "nbformat_minor": 2
}
